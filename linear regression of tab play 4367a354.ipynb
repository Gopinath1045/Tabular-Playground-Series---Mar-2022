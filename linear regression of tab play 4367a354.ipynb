{
 "cells": [
  {
   "cell_type": "code",
   "execution_count": 1,
   "id": "6fc08513",
   "metadata": {
    "_cell_guid": "b1076dfc-b9ad-4769-8c92-a6c4dae69d19",
    "_uuid": "8f2839f25d086af736a60e9eeb907d3b93b6e0e5",
    "execution": {
     "iopub.execute_input": "2022-03-16T09:24:14.826277Z",
     "iopub.status.busy": "2022-03-16T09:24:14.825431Z",
     "iopub.status.idle": "2022-03-16T09:24:15.810111Z",
     "shell.execute_reply": "2022-03-16T09:24:15.810815Z",
     "shell.execute_reply.started": "2022-03-16T09:11:05.396978Z"
    },
    "papermill": {
     "duration": 1.027604,
     "end_time": "2022-03-16T09:24:15.811139",
     "exception": false,
     "start_time": "2022-03-16T09:24:14.783535",
     "status": "completed"
    },
    "tags": []
   },
   "outputs": [],
   "source": [
    "import pandas as pd\n",
    "import numpy as np\n",
    "import matplotlib.pyplot as plt\n",
    "import seaborn as sns\n",
    "%matplotlib inline\n",
    "pd.pandas.set_option('display.max_columns',None)\n",
    "from datetime import datetime"
   ]
  },
  {
   "cell_type": "code",
   "execution_count": 2,
   "id": "2f411284",
   "metadata": {
    "execution": {
     "iopub.execute_input": "2022-03-16T09:24:15.874548Z",
     "iopub.status.busy": "2022-03-16T09:24:15.873484Z",
     "iopub.status.idle": "2022-03-16T09:24:16.756236Z",
     "shell.execute_reply": "2022-03-16T09:24:16.755550Z",
     "shell.execute_reply.started": "2022-03-16T09:15:06.464275Z"
    },
    "papermill": {
     "duration": 0.91521,
     "end_time": "2022-03-16T09:24:16.756384",
     "exception": false,
     "start_time": "2022-03-16T09:24:15.841174",
     "status": "completed"
    },
    "tags": []
   },
   "outputs": [],
   "source": [
    "df1= pd.read_csv('../input/tabular-playground-series-mar-2022/train.csv')\n",
    "df2= pd.read_csv('../input/tabular-playground-series-mar-2022/test.csv')\n",
    "sample_submission = pd.read_csv('../input/tabular-playground-series-mar-2022/sample_submission.csv')"
   ]
  },
  {
   "cell_type": "code",
   "execution_count": 3,
   "id": "6bc00aec",
   "metadata": {
    "execution": {
     "iopub.execute_input": "2022-03-16T09:24:16.817125Z",
     "iopub.status.busy": "2022-03-16T09:24:16.816378Z",
     "iopub.status.idle": "2022-03-16T09:24:23.691339Z",
     "shell.execute_reply": "2022-03-16T09:24:23.690728Z",
     "shell.execute_reply.started": "2022-03-16T09:15:15.632650Z"
    },
    "papermill": {
     "duration": 6.907191,
     "end_time": "2022-03-16T09:24:23.691475",
     "exception": false,
     "start_time": "2022-03-16T09:24:16.784284",
     "status": "completed"
    },
    "tags": []
   },
   "outputs": [
    {
     "data": {
      "text/plain": [
       "<AxesSubplot:>"
      ]
     },
     "execution_count": 3,
     "metadata": {},
     "output_type": "execute_result"
    },
    {
     "data": {
      "image/png": "[encoded data removed]",
      "text/plain": [
       "<Figure size 432x288 with 2 Axes>"
      ]
     },
     "metadata": {
      "needs_background": "light"
     },
     "output_type": "display_data"
    }
   ],
   "source": [
    "sns.heatmap(df1.isnull(), yticklabels=False )"
   ]
  },
  {
   "cell_type": "code",
   "execution_count": 4,
   "id": "8271398e",
   "metadata": {
    "execution": {
     "iopub.execute_input": "2022-03-16T09:24:23.755681Z",
     "iopub.status.busy": "2022-03-16T09:24:23.754739Z",
     "iopub.status.idle": "2022-03-16T09:24:23.993196Z",
     "shell.execute_reply": "2022-03-16T09:24:23.992661Z",
     "shell.execute_reply.started": "2022-03-16T09:15:32.634375Z"
    },
    "papermill": {
     "duration": 0.273205,
     "end_time": "2022-03-16T09:24:23.993342",
     "exception": false,
     "start_time": "2022-03-16T09:24:23.720137",
     "status": "completed"
    },
    "tags": []
   },
   "outputs": [
    {
     "data": {
      "text/plain": [
       "<AxesSubplot:>"
      ]
     },
     "execution_count": 4,
     "metadata": {},
     "output_type": "execute_result"
    },
    {
     "data": {
      "image/png": "[encoded data removed]",
      "text/plain": [
       "<Figure size 432x288 with 2 Axes>"
      ]
     },
     "metadata": {
      "needs_background": "light"
     },
     "output_type": "display_data"
    }
   ],
   "source": [
    "sns.heatmap(df2.isnull(), yticklabels=False )"
   ]
  },
  {
   "cell_type": "code",
   "execution_count": 5,
   "id": "3307a1e1",
   "metadata": {
    "execution": {
     "iopub.execute_input": "2022-03-16T09:24:24.056556Z",
     "iopub.status.busy": "2022-03-16T09:24:24.055726Z",
     "iopub.status.idle": "2022-03-16T09:24:24.058126Z",
     "shell.execute_reply": "2022-03-16T09:24:24.058597Z",
     "shell.execute_reply.started": "2022-03-16T09:15:47.960750Z"
    },
    "papermill": {
     "duration": 0.036595,
     "end_time": "2022-03-16T09:24:24.058753",
     "exception": false,
     "start_time": "2022-03-16T09:24:24.022158",
     "status": "completed"
    },
    "tags": []
   },
   "outputs": [],
   "source": [
    "#from above data we can see no null values"
   ]
  },
  {
   "cell_type": "code",
   "execution_count": 6,
   "id": "4f7f2d5a",
   "metadata": {
    "execution": {
     "iopub.execute_input": "2022-03-16T09:24:24.127639Z",
     "iopub.status.busy": "2022-03-16T09:24:24.127000Z",
     "iopub.status.idle": "2022-03-16T09:24:24.447760Z",
     "shell.execute_reply": "2022-03-16T09:24:24.447229Z",
     "shell.execute_reply.started": "2022-03-16T09:15:58.416227Z"
    },
    "papermill": {
     "duration": 0.359403,
     "end_time": "2022-03-16T09:24:24.447889",
     "exception": false,
     "start_time": "2022-03-16T09:24:24.088486",
     "status": "completed"
    },
    "tags": []
   },
   "outputs": [
    {
     "data": {
      "text/plain": [
       "(0, 0)"
      ]
     },
     "execution_count": 6,
     "metadata": {},
     "output_type": "execute_result"
    }
   ],
   "source": [
    "df1.duplicated().sum(), df2.duplicated().sum()"
   ]
  },
  {
   "cell_type": "code",
   "execution_count": 7,
   "id": "bbcf1467",
   "metadata": {
    "execution": {
     "iopub.execute_input": "2022-03-16T09:24:24.509826Z",
     "iopub.status.busy": "2022-03-16T09:24:24.509234Z",
     "iopub.status.idle": "2022-03-16T09:24:24.513550Z",
     "shell.execute_reply": "2022-03-16T09:24:24.512969Z",
     "shell.execute_reply.started": "2022-03-16T09:16:13.606482Z"
    },
    "papermill": {
     "duration": 0.035889,
     "end_time": "2022-03-16T09:24:24.513686",
     "exception": false,
     "start_time": "2022-03-16T09:24:24.477797",
     "status": "completed"
    },
    "tags": []
   },
   "outputs": [],
   "source": [
    "#from above details we can see min and max year are the same, so we not to take year in data"
   ]
  },
  {
   "cell_type": "code",
   "execution_count": 8,
   "id": "ed5c36dd",
   "metadata": {
    "execution": {
     "iopub.execute_input": "2022-03-16T09:24:24.626513Z",
     "iopub.status.busy": "2022-03-16T09:24:24.625842Z",
     "iopub.status.idle": "2022-03-16T09:24:26.056245Z",
     "shell.execute_reply": "2022-03-16T09:24:26.055581Z",
     "shell.execute_reply.started": "2022-03-16T09:16:42.127602Z"
    },
    "papermill": {
     "duration": 1.513274,
     "end_time": "2022-03-16T09:24:26.056384",
     "exception": false,
     "start_time": "2022-03-16T09:24:24.543110",
     "status": "completed"
    },
    "tags": []
   },
   "outputs": [],
   "source": [
    "df1['Date'] = pd.to_datetime(df1['time']).dt.date\n",
    "df1['Time']=pd.to_datetime(df1['time']).dt.time\n",
    "df1.drop(['time'],axis=1, inplace=True)"
   ]
  },
  {
   "cell_type": "code",
   "execution_count": 9,
   "id": "8f9a3a95",
   "metadata": {
    "execution": {
     "iopub.execute_input": "2022-03-16T09:24:26.253920Z",
     "iopub.status.busy": "2022-03-16T09:24:26.252881Z",
     "iopub.status.idle": "2022-03-16T09:24:28.760755Z",
     "shell.execute_reply": "2022-03-16T09:24:28.760205Z",
     "shell.execute_reply.started": "2022-03-16T09:17:17.436322Z"
    },
    "papermill": {
     "duration": 2.674579,
     "end_time": "2022-03-16T09:24:28.760890",
     "exception": false,
     "start_time": "2022-03-16T09:24:26.086311",
     "status": "completed"
    },
    "tags": []
   },
   "outputs": [],
   "source": [
    "df1['day']=pd.to_datetime(df1['Date']).dt.day\n",
    "df1['month']=pd.to_datetime(df1['Date']).dt.month\n",
    "df1['year']=pd.to_datetime(df1['Date']).dt.year\n",
    "df1['Time'] = pd.to_datetime(df1['Time'].astype(str))\n",
    "df1['hour']=pd.to_datetime(df1['Time']).dt.hour\n",
    "df1['minute']=pd.to_datetime(df1['Time']).dt.minute\n",
    "df1.drop(['Date','Time'],axis=1,inplace=True)"
   ]
  },
  {
   "cell_type": "code",
   "execution_count": 10,
   "id": "4f1767f5",
   "metadata": {
    "execution": {
     "iopub.execute_input": "2022-03-16T09:24:28.831223Z",
     "iopub.status.busy": "2022-03-16T09:24:28.830590Z",
     "iopub.status.idle": "2022-03-16T09:24:28.848416Z",
     "shell.execute_reply": "2022-03-16T09:24:28.848896Z",
     "shell.execute_reply.started": "2022-03-16T09:17:50.727188Z"
    },
    "papermill": {
     "duration": 0.056514,
     "end_time": "2022-03-16T09:24:28.849096",
     "exception": false,
     "start_time": "2022-03-16T09:24:28.792582",
     "status": "completed"
    },
    "tags": []
   },
   "outputs": [],
   "source": [
    "df2['Date'] = pd.to_datetime(df2['time']).dt.date\n",
    "df2['Time']=pd.to_datetime(df2['time']).dt.time\n",
    "df2.drop(['time'],axis=1, inplace=True)\n",
    "df2['day']=pd.to_datetime(df2['Date']).dt.day\n",
    "df2['month']=pd.to_datetime(df2['Date']).dt.month\n",
    "df2['year']=pd.to_datetime(df2['Date']).dt.year"
   ]
  },
  {
   "cell_type": "code",
   "execution_count": 11,
   "id": "87b9fddb",
   "metadata": {
    "execution": {
     "iopub.execute_input": "2022-03-16T09:24:28.914296Z",
     "iopub.status.busy": "2022-03-16T09:24:28.913011Z",
     "iopub.status.idle": "2022-03-16T09:24:28.938773Z",
     "shell.execute_reply": "2022-03-16T09:24:28.938131Z",
     "shell.execute_reply.started": "2022-03-16T09:18:00.159231Z"
    },
    "papermill": {
     "duration": 0.059739,
     "end_time": "2022-03-16T09:24:28.938923",
     "exception": false,
     "start_time": "2022-03-16T09:24:28.879184",
     "status": "completed"
    },
    "tags": []
   },
   "outputs": [],
   "source": [
    "df2['Time'] = pd.to_datetime(df2['Time'].astype(str))\n",
    "df2['hour']=pd.to_datetime(df2['Time']).dt.hour\n",
    "df2['minute']=pd.to_datetime(df2['Time']).dt.minute\n",
    "df2.drop(['Date','Time'],axis=1,inplace=True)"
   ]
  },
  {
   "cell_type": "code",
   "execution_count": 12,
   "id": "10ccf027",
   "metadata": {
    "execution": {
     "iopub.execute_input": "2022-03-16T09:24:29.015187Z",
     "iopub.status.busy": "2022-03-16T09:24:29.014451Z",
     "iopub.status.idle": "2022-03-16T09:24:29.405427Z",
     "shell.execute_reply": "2022-03-16T09:24:29.404856Z",
     "shell.execute_reply.started": "2022-03-16T09:18:10.445618Z"
    },
    "papermill": {
     "duration": 0.432151,
     "end_time": "2022-03-16T09:24:29.405593",
     "exception": false,
     "start_time": "2022-03-16T09:24:28.973442",
     "status": "completed"
    },
    "tags": []
   },
   "outputs": [],
   "source": [
    "##For direction\n",
    "from sklearn.preprocessing import LabelEncoder\n",
    "le = LabelEncoder()\n",
    "le.fit(df1['direction'])\n",
    "df1['direction'] = le.transform(df1['direction'])"
   ]
  },
  {
   "cell_type": "code",
   "execution_count": 13,
   "id": "366804e4",
   "metadata": {
    "execution": {
     "iopub.execute_input": "2022-03-16T09:24:29.471824Z",
     "iopub.status.busy": "2022-03-16T09:24:29.471186Z",
     "iopub.status.idle": "2022-03-16T09:24:29.474140Z",
     "shell.execute_reply": "2022-03-16T09:24:29.473660Z",
     "shell.execute_reply.started": "2022-03-16T09:18:19.071431Z"
    },
    "papermill": {
     "duration": 0.038652,
     "end_time": "2022-03-16T09:24:29.474271",
     "exception": false,
     "start_time": "2022-03-16T09:24:29.435619",
     "status": "completed"
    },
    "tags": []
   },
   "outputs": [],
   "source": [
    "le.fit(df2['direction'])\n",
    "df2['direction'] = le.transform(df2['direction'])"
   ]
  },
  {
   "cell_type": "code",
   "execution_count": 14,
   "id": "6bec1952",
   "metadata": {
    "execution": {
     "iopub.execute_input": "2022-03-16T09:24:29.539517Z",
     "iopub.status.busy": "2022-03-16T09:24:29.538888Z",
     "iopub.status.idle": "2022-03-16T09:24:29.612229Z",
     "shell.execute_reply": "2022-03-16T09:24:29.611577Z",
     "shell.execute_reply.started": "2022-03-16T09:18:27.151401Z"
    },
    "papermill": {
     "duration": 0.108123,
     "end_time": "2022-03-16T09:24:29.612378",
     "exception": false,
     "start_time": "2022-03-16T09:24:29.504255",
     "status": "completed"
    },
    "tags": []
   },
   "outputs": [],
   "source": [
    "X=df1.drop(['row_id','congestion'],axis=1)\n",
    "y=df1['congestion']"
   ]
  },
  {
   "cell_type": "code",
   "execution_count": 15,
   "id": "df71d9cb",
   "metadata": {
    "execution": {
     "iopub.execute_input": "2022-03-16T09:24:29.678176Z",
     "iopub.status.busy": "2022-03-16T09:24:29.677495Z",
     "iopub.status.idle": "2022-03-16T09:24:29.878394Z",
     "shell.execute_reply": "2022-03-16T09:24:29.877833Z",
     "shell.execute_reply.started": "2022-03-16T09:18:40.550677Z"
    },
    "papermill": {
     "duration": 0.235636,
     "end_time": "2022-03-16T09:24:29.878538",
     "exception": false,
     "start_time": "2022-03-16T09:24:29.642902",
     "status": "completed"
    },
    "tags": []
   },
   "outputs": [],
   "source": [
    "#split the data\n",
    "from sklearn.model_selection import train_test_split\n",
    "X_train, X_test, y_train, y_test = train_test_split(X,y, test_size=0.3, random_state=14)"
   ]
  },
  {
   "cell_type": "code",
   "execution_count": 16,
   "id": "d9279953",
   "metadata": {
    "execution": {
     "iopub.execute_input": "2022-03-16T09:24:29.945240Z",
     "iopub.status.busy": "2022-03-16T09:24:29.944550Z",
     "iopub.status.idle": "2022-03-16T09:24:30.142725Z",
     "shell.execute_reply": "2022-03-16T09:24:30.143582Z",
     "shell.execute_reply.started": "2022-03-16T09:18:43.901460Z"
    },
    "papermill": {
     "duration": 0.235205,
     "end_time": "2022-03-16T09:24:30.143848",
     "exception": false,
     "start_time": "2022-03-16T09:24:29.908643",
     "status": "completed"
    },
    "tags": []
   },
   "outputs": [
    {
     "data": {
      "text/plain": [
       "LinearRegression()"
      ]
     },
     "execution_count": 16,
     "metadata": {},
     "output_type": "execute_result"
    }
   ],
   "source": [
    "from sklearn.linear_model import LinearRegression\n",
    "model = LinearRegression()\n",
    "model.fit(X_train, y_train)"
   ]
  },
  {
   "cell_type": "code",
   "execution_count": 17,
   "id": "ecce7165",
   "metadata": {
    "execution": {
     "iopub.execute_input": "2022-03-16T09:24:30.216209Z",
     "iopub.status.busy": "2022-03-16T09:24:30.215213Z",
     "iopub.status.idle": "2022-03-16T09:24:30.269073Z",
     "shell.execute_reply": "2022-03-16T09:24:30.269992Z",
     "shell.execute_reply.started": "2022-03-16T09:18:50.463131Z"
    },
    "papermill": {
     "duration": 0.088724,
     "end_time": "2022-03-16T09:24:30.270260",
     "exception": false,
     "start_time": "2022-03-16T09:24:30.181536",
     "status": "completed"
    },
    "tags": []
   },
   "outputs": [],
   "source": [
    "y_pred=model.predict(X_test).astype(int)\n",
    "y_pred_train=model.predict(X_train).astype(int)"
   ]
  },
  {
   "cell_type": "code",
   "execution_count": 18,
   "id": "c9963517",
   "metadata": {
    "execution": {
     "iopub.execute_input": "2022-03-16T09:24:30.388348Z",
     "iopub.status.busy": "2022-03-16T09:24:30.387597Z",
     "iopub.status.idle": "2022-03-16T09:24:30.389413Z",
     "shell.execute_reply": "2022-03-16T09:24:30.388908Z",
     "shell.execute_reply.started": "2022-03-16T09:18:59.719422Z"
    },
    "papermill": {
     "duration": 0.063597,
     "end_time": "2022-03-16T09:24:30.389538",
     "exception": false,
     "start_time": "2022-03-16T09:24:30.325941",
     "status": "completed"
    },
    "tags": []
   },
   "outputs": [],
   "source": [
    "from sklearn.metrics import mean_absolute_error"
   ]
  },
  {
   "cell_type": "code",
   "execution_count": 19,
   "id": "49372f50",
   "metadata": {
    "execution": {
     "iopub.execute_input": "2022-03-16T09:24:30.453032Z",
     "iopub.status.busy": "2022-03-16T09:24:30.452109Z",
     "iopub.status.idle": "2022-03-16T09:24:30.462482Z",
     "shell.execute_reply": "2022-03-16T09:24:30.461797Z",
     "shell.execute_reply.started": "2022-03-16T09:19:09.475355Z"
    },
    "papermill": {
     "duration": 0.043565,
     "end_time": "2022-03-16T09:24:30.462635",
     "exception": false,
     "start_time": "2022-03-16T09:24:30.419070",
     "status": "completed"
    },
    "tags": []
   },
   "outputs": [],
   "source": [
    "mae_test=mean_absolute_error(y_test, y_pred)\n",
    "mae_train=mean_absolute_error(y_train, y_pred_train)"
   ]
  },
  {
   "cell_type": "code",
   "execution_count": 20,
   "id": "60a5be79",
   "metadata": {
    "execution": {
     "iopub.execute_input": "2022-03-16T09:24:30.529489Z",
     "iopub.status.busy": "2022-03-16T09:24:30.528763Z",
     "iopub.status.idle": "2022-03-16T09:24:30.531439Z",
     "shell.execute_reply": "2022-03-16T09:24:30.531927Z",
     "shell.execute_reply.started": "2022-03-16T09:19:13.510235Z"
    },
    "papermill": {
     "duration": 0.038683,
     "end_time": "2022-03-16T09:24:30.532111",
     "exception": false,
     "start_time": "2022-03-16T09:24:30.493428",
     "status": "completed"
    },
    "tags": []
   },
   "outputs": [
    {
     "data": {
      "text/plain": [
       "13.570569131870679"
      ]
     },
     "execution_count": 20,
     "metadata": {},
     "output_type": "execute_result"
    }
   ],
   "source": [
    "mae_test"
   ]
  },
  {
   "cell_type": "code",
   "execution_count": 21,
   "id": "e17a6d40",
   "metadata": {
    "execution": {
     "iopub.execute_input": "2022-03-16T09:24:30.597804Z",
     "iopub.status.busy": "2022-03-16T09:24:30.597213Z",
     "iopub.status.idle": "2022-03-16T09:24:30.602274Z",
     "shell.execute_reply": "2022-03-16T09:24:30.601734Z",
     "shell.execute_reply.started": "2022-03-16T09:19:16.838252Z"
    },
    "papermill": {
     "duration": 0.038941,
     "end_time": "2022-03-16T09:24:30.602406",
     "exception": false,
     "start_time": "2022-03-16T09:24:30.563465",
     "status": "completed"
    },
    "tags": []
   },
   "outputs": [
    {
     "data": {
      "text/plain": [
       "13.564461513605213"
      ]
     },
     "execution_count": 21,
     "metadata": {},
     "output_type": "execute_result"
    }
   ],
   "source": [
    "mae_train"
   ]
  },
  {
   "cell_type": "code",
   "execution_count": 22,
   "id": "42986af9",
   "metadata": {
    "execution": {
     "iopub.execute_input": "2022-03-16T09:24:30.669967Z",
     "iopub.status.busy": "2022-03-16T09:24:30.669346Z",
     "iopub.status.idle": "2022-03-16T09:24:30.671908Z",
     "shell.execute_reply": "2022-03-16T09:24:30.672410Z",
     "shell.execute_reply.started": "2022-03-16T09:19:27.207563Z"
    },
    "papermill": {
     "duration": 0.039423,
     "end_time": "2022-03-16T09:24:30.672569",
     "exception": false,
     "start_time": "2022-03-16T09:24:30.633146",
     "status": "completed"
    },
    "tags": []
   },
   "outputs": [],
   "source": [
    "df3=df2.drop(['row_id'],axis=1)"
   ]
  },
  {
   "cell_type": "code",
   "execution_count": 23,
   "id": "9f9070ee",
   "metadata": {
    "execution": {
     "iopub.execute_input": "2022-03-16T09:24:30.743122Z",
     "iopub.status.busy": "2022-03-16T09:24:30.741995Z",
     "iopub.status.idle": "2022-03-16T09:24:30.744106Z",
     "shell.execute_reply": "2022-03-16T09:24:30.745075Z",
     "shell.execute_reply.started": "2022-03-16T09:19:35.142353Z"
    },
    "papermill": {
     "duration": 0.041672,
     "end_time": "2022-03-16T09:24:30.745358",
     "exception": false,
     "start_time": "2022-03-16T09:24:30.703686",
     "status": "completed"
    },
    "tags": []
   },
   "outputs": [],
   "source": [
    "ypred3=model.predict(df3).astype(int)"
   ]
  },
  {
   "cell_type": "code",
   "execution_count": 24,
   "id": "d07fc7d6",
   "metadata": {
    "execution": {
     "iopub.execute_input": "2022-03-16T09:24:30.868007Z",
     "iopub.status.busy": "2022-03-16T09:24:30.867318Z",
     "iopub.status.idle": "2022-03-16T09:24:30.870343Z",
     "shell.execute_reply": "2022-03-16T09:24:30.869804Z",
     "shell.execute_reply.started": "2022-03-16T09:19:47.447947Z"
    },
    "papermill": {
     "duration": 0.065675,
     "end_time": "2022-03-16T09:24:30.870485",
     "exception": false,
     "start_time": "2022-03-16T09:24:30.804810",
     "status": "completed"
    },
    "tags": []
   },
   "outputs": [],
   "source": [
    "df=pd.DataFrame(ypred3,columns=['congestion'])"
   ]
  },
  {
   "cell_type": "code",
   "execution_count": 25,
   "id": "80e0f765",
   "metadata": {
    "execution": {
     "iopub.execute_input": "2022-03-16T09:24:30.940257Z",
     "iopub.status.busy": "2022-03-16T09:24:30.938519Z",
     "iopub.status.idle": "2022-03-16T09:24:30.949115Z",
     "shell.execute_reply": "2022-03-16T09:24:30.949592Z",
     "shell.execute_reply.started": "2022-03-16T09:20:21.994186Z"
    },
    "papermill": {
     "duration": 0.047302,
     "end_time": "2022-03-16T09:24:30.949754",
     "exception": false,
     "start_time": "2022-03-16T09:24:30.902452",
     "status": "completed"
    },
    "tags": []
   },
   "outputs": [
    {
     "data": {
      "text/html": [
       "<div>\n",
       "<style scoped>\n",
       "    .dataframe tbody tr th:only-of-type {\n",
       "        vertical-align: middle;\n",
       "    }\n",
       "\n",
       "    .dataframe tbody tr th {\n",
       "        vertical-align: top;\n",
       "    }\n",
       "\n",
       "    .dataframe thead th {\n",
       "        text-align: right;\n",
       "    }\n",
       "</style>\n",
       "<table border=\"1\" class=\"dataframe\">\n",
       "  <thead>\n",
       "    <tr style=\"text-align: right;\">\n",
       "      <th></th>\n",
       "      <th>row_id</th>\n",
       "      <th>congestion</th>\n",
       "    </tr>\n",
       "  </thead>\n",
       "  <tbody>\n",
       "    <tr>\n",
       "      <th>0</th>\n",
       "      <td>848835</td>\n",
       "      <td>50</td>\n",
       "    </tr>\n",
       "    <tr>\n",
       "      <th>1</th>\n",
       "      <td>848836</td>\n",
       "      <td>49</td>\n",
       "    </tr>\n",
       "    <tr>\n",
       "      <th>2</th>\n",
       "      <td>848837</td>\n",
       "      <td>49</td>\n",
       "    </tr>\n",
       "    <tr>\n",
       "      <th>3</th>\n",
       "      <td>848838</td>\n",
       "      <td>48</td>\n",
       "    </tr>\n",
       "    <tr>\n",
       "      <th>4</th>\n",
       "      <td>848839</td>\n",
       "      <td>48</td>\n",
       "    </tr>\n",
       "  </tbody>\n",
       "</table>\n",
       "</div>"
      ],
      "text/plain": [
       "   row_id  congestion\n",
       "0  848835          50\n",
       "1  848836          49\n",
       "2  848837          49\n",
       "3  848838          48\n",
       "4  848839          48"
      ]
     },
     "execution_count": 25,
     "metadata": {},
     "output_type": "execute_result"
    }
   ],
   "source": [
    "sample_submission['congestion']=df['congestion']\n",
    "sample_submission.head()"
   ]
  },
  {
   "cell_type": "code",
   "execution_count": 26,
   "id": "c9c5b576",
   "metadata": {
    "execution": {
     "iopub.execute_input": "2022-03-16T09:24:31.019343Z",
     "iopub.status.busy": "2022-03-16T09:24:31.016062Z",
     "iopub.status.idle": "2022-03-16T09:24:31.029097Z",
     "shell.execute_reply": "2022-03-16T09:24:31.028458Z",
     "shell.execute_reply.started": "2022-03-16T09:22:42.489631Z"
    },
    "papermill": {
     "duration": 0.047898,
     "end_time": "2022-03-16T09:24:31.029236",
     "exception": false,
     "start_time": "2022-03-16T09:24:30.981338",
     "status": "completed"
    },
    "tags": []
   },
   "outputs": [],
   "source": [
    "sample_submission.to_csv('./submission.csv',index=False)"
   ]
  },
  {
   "cell_type": "code",
   "execution_count": null,
   "id": "53d2de59",
   "metadata": {
    "papermill": {
     "duration": 0.031796,
     "end_time": "2022-03-16T09:24:31.093786",
     "exception": false,
     "start_time": "2022-03-16T09:24:31.061990",
     "status": "completed"
    },
    "tags": []
   },
   "outputs": [],
   "source": []
  }
 ],
 "metadata": {
  "kernelspec": {
   "display_name": "Python 3",
   "language": "python",
   "name": "python3"
  },
  "language_info": {
   "codemirror_mode": {
    "name": "ipython",
    "version": 3
   },
   "file_extension": ".py",
   "mimetype": "text/x-python",
   "name": "python",
   "nbconvert_exporter": "python",
   "pygments_lexer": "ipython3",
   "version": "3.7.12"
  },
  "papermill": {
   "default_parameters": {},
   "duration": 26.345172,
   "end_time": "2022-03-16T09:24:31.835558",
   "environment_variables": {},
   "exception": null,
   "input_path": "__notebook__.ipynb",
   "output_path": "__notebook__.ipynb",
   "parameters": {},
   "start_time": "2022-03-16T09:24:05.490386",
   "version": "2.3.3"
  }
 },
 "nbformat": 4,
 "nbformat_minor": 5
}
